{
 "cells": [
  {
   "cell_type": "markdown",
   "source": [
    "### Importação de bibliotecas"
   ],
   "metadata": {
    "collapsed": false,
    "pycharm": {
     "name": "#%% md\n"
    }
   }
  },
  {
   "cell_type": "code",
   "execution_count": 1,
   "outputs": [],
   "source": [
    "import pandas as pd\n",
    "import matplotlib.pyplot as plt"
   ],
   "metadata": {
    "collapsed": false,
    "pycharm": {
     "name": "#%%\n"
    }
   }
  },
  {
   "cell_type": "markdown",
   "source": [
    "### Tratamento de dados"
   ],
   "metadata": {
    "collapsed": false,
    "pycharm": {
     "name": "#%% md\n"
    }
   }
  },
  {
   "cell_type": "markdown",
   "source": [
    "- Dados foram tirados das contas de luz da casa de um integrante do grupo( Pedro Lucchiari), que pode ser vista na primeira linha de cada arquivo. O restante dos dados que podem ser vistos foram estipulados com base no tirado com a meta de mostrar a funcionalidae do código."
   ],
   "metadata": {
    "collapsed": false,
    "pycharm": {
     "name": "#%% md\n"
    }
   }
  },
  {
   "cell_type": "code",
   "execution_count": 2,
   "outputs": [],
   "source": [
    "account = pd.read_csv(\"Kappel_Data_Conta.csv\",on_bad_lines='skip',sep = ';')\n",
    "consume=pd.read_csv(\"Kappel_Data_Kwh.csv\",on_bad_lines='skip',sep=';')"
   ],
   "metadata": {
    "collapsed": false,
    "pycharm": {
     "name": "#%%\n"
    }
   }
  },
  {
   "cell_type": "markdown",
   "source": [
    "- Limpeza de dados que são necessários: Remoção de dados redundantes, outliers, incompletos; Alteração de dados."
   ],
   "metadata": {
    "collapsed": false,
    "pycharm": {
     "name": "#%% md\n"
    }
   }
  },
  {
   "cell_type": "code",
   "execution_count": 3,
   "outputs": [
    {
     "name": "stdout",
     "output_type": "stream",
     "text": [
      "False\n",
      "False\n"
     ]
    }
   ],
   "source": [
    "#Verificação se os dados não possuem nenhuma linha vazia (exemplo)\n",
    "account=account.dropna(how='any')\n",
    "consume=consume.dropna(how='any')\n",
    "print(account.isnull().values.any())\n",
    "print(consume.isnull().values.any())"
   ],
   "metadata": {
    "collapsed": false,
    "pycharm": {
     "name": "#%%\n"
    }
   }
  },
  {
   "cell_type": "markdown",
   "source": [
    "### Análise exploratória\n",
    "- Procedimento em que há a extração de resultados que queremos."
   ],
   "metadata": {
    "collapsed": false,
    "pycharm": {
     "name": "#%% md\n"
    }
   }
  },
  {
   "cell_type": "code",
   "execution_count": 4,
   "outputs": [
    {
     "name": "stdout",
     "output_type": "stream",
     "text": [
      "Funcionário 1 pagou em média 394.54 R$ e consumiu 409.42 Kw/h no mercado regulado \n",
      "Funcionário 2 pagou em média 386.39 R$ e consumiu 408.75 Kw/h no mercado regulado \n",
      "Funcionário 3 pagou em média 379.08 R$ e consumiu 389.33 Kw/h no mercado regulado \n",
      "Funcionário 4 pagou em média 368.95 R$ e consumiu 397.92 Kw/h no mercado regulado \n",
      "Funcionário 5 pagou em média 440.86 R$ e consumiu 498.42 Kw/h no mercado regulado \n"
     ]
    }
   ],
   "source": [
    "# Conta e consumo mensal de cada funcionário\n",
    "clientsbill =[]\n",
    "clientsconsume = []\n",
    "for (client,used) in zip(account.index,consume.index):\n",
    "    avarage =0\n",
    "    for price in account[1:]:\n",
    "         avarage = avarage + account[price][client]\n",
    "    avarage=avarage/12\n",
    "    clientsbill.append(round(avarage,2))\n",
    "    useavarage = 0\n",
    "    for quant in consume[1:]:\n",
    "        useavarage = useavarage + consume[quant][used]\n",
    "    useavarage=useavarage/12\n",
    "    clientsconsume.append(round(useavarage,2))\n",
    "    print(f'Funcionário {round(client +1)} pagou em média {round(avarage,2)} R$ e consumiu {round(useavarage,2)} Kw/h no mercado regulado ')"
   ],
   "metadata": {
    "collapsed": false,
    "pycharm": {
     "name": "#%%\n"
    }
   }
  },
  {
   "cell_type": "markdown",
   "source": [
    "- A energia arrendada pelo funcionário será uma função do seu consumo energético médio e da quantidade de energia renovável de interesse do cliente. Os cálculos são feitos considerando margens de segurança aplicadas tanto no consumo médio quanto no volume de energia que será arrendada.\n",
    "\n",
    "- Para isso, calculamos o rendimento médio da produção de energia solar das quatro usinas de geração distribuída no estado de São Paulo ao longo dos últimos seis meses (dados abertos adquiridos no banco de dados da ONS).\n",
    "- O rendimento médio da produção de energia solar foi de 34,5%."
   ],
   "metadata": {
    "collapsed": false,
    "pycharm": {
     "name": "#%% md\n"
    }
   }
  },
  {
   "cell_type": "code",
   "execution_count": 5,
   "outputs": [
    {
     "name": "stdout",
     "output_type": "stream",
     "text": [
      "A energia arrendada para o funcionário 1 é de 1186.72 Kw/h\n",
      "A energia arrendada para o funcionário 2 é de 1184.78 Kw/h\n",
      "A energia arrendada para o funcionário 3 é de 1128.49 Kw/h\n",
      "A energia arrendada para o funcionário 4 é de 1153.39 Kw/h\n",
      "A energia arrendada para o funcionário 5 é de 1444.7 Kw/h\n",
      "\n",
      "\n",
      "A energia sustentável arrendada pela empresa é 6098.09 Kw/h\n"
     ]
    }
   ],
   "source": [
    "leasedenergy =[]\n",
    "for energy in clientsconsume:\n",
    "    leasedenergy.append(energy/0.345)\n",
    "for (i,a) in zip(range(len(leasedenergy)),leasedenergy):\n",
    "    print(f'A energia arrendada para o funcionário {i +1} é de {round(a,2)} Kw/h')\n",
    "print('\\n')\n",
    "print(f'A energia sustentável arrendada pela empresa é {round(sum(leasedenergy),2)} Kw/h')"
   ],
   "metadata": {
    "collapsed": false,
    "pycharm": {
     "name": "#%%\n"
    }
   }
  },
  {
   "cell_type": "markdown",
   "source": [],
   "metadata": {
    "collapsed": false,
    "pycharm": {
     "name": "#%% md\n"
    }
   }
  },
  {
   "cell_type": "markdown",
   "source": [
    "### Resultados para disponíveis para o funcionário"
   ],
   "metadata": {
    "collapsed": false,
    "pycharm": {
     "name": "#%% md\n"
    }
   }
  },
  {
   "cell_type": "code",
   "execution_count": 6,
   "outputs": [
    {
     "name": "stdout",
     "output_type": "stream",
     "text": [
      "Funcionário 1 economizou 1163.87 em um ano\n",
      "Funcionário 2 economizou 974.03 em um ano\n",
      "Funcionário 3 economizou 1000.77 em um ano\n",
      "Funcionário 4 economizou 1020.07 em um ano\n",
      "Funcionário 5 economizou 1041.59 em um ano\n"
     ]
    }
   ],
   "source": [
    "# Economia mensal para o funcionário de 20 a 25%(https://www.alemdaenergia.engie.com.br/migracao-para-o-mercado-livre-pode-gerar-economia-de-ate-25/)\n",
    "# Pegando 22% como referência.Temos a seguinte economia anual\n",
    "saved=[]\n",
    "for a in clientsbill:\n",
    "    b = 12*(a*0.22)\n",
    "    saved.append(b)\n",
    "saved = saved[::-1]\n",
    "\n",
    "for (i,a) in zip(range(len(saved)), saved):\n",
    "    print(f'Funcionário {i + 1} economizou {round(a,2)} em um ano')"
   ],
   "metadata": {
    "collapsed": false,
    "pycharm": {
     "name": "#%%\n"
    }
   }
  },
  {
   "cell_type": "code",
   "execution_count": 7,
   "outputs": [
    {
     "data": {
      "text/plain": "<Figure size 432x288 with 1 Axes>",
      "image/png": "[encoded data removed]"
     },
     "metadata": {
      "needs_background": "light"
     },
     "output_type": "display_data"
    }
   ],
   "source": [
    "#Parte que terá no relatório personalizado para cada cliente\n",
    "companyavarage=0\n",
    "for bill in clientsconsume:\n",
    "    companyavarage = companyavarage + bill\n",
    "companyavarage=companyavarage/len(clientsconsume)\n",
    "compare=[]\n",
    "compare.append(companyavarage)\n",
    "compare.append(clientsconsume[4])\n",
    "langs=['Company Avarage','Worker X']\n",
    "plt.bar(langs,compare,color='yellow',edgecolor='black')\n",
    "plt.grid()\n",
    "plt.show()"
   ],
   "metadata": {
    "collapsed": false,
    "pycharm": {
     "name": "#%%\n"
    }
   }
  },
  {
   "cell_type": "markdown",
   "source": [],
   "metadata": {
    "collapsed": false,
    "pycharm": {
     "name": "#%% md\n"
    }
   }
  },
  {
   "cell_type": "code",
   "execution_count": 8,
   "outputs": [
    {
     "name": "stdout",
     "output_type": "stream",
     "text": [
      "Funcionário X ultrapassou em 18.45%\n"
     ]
    }
   ],
   "source": [
    "# Mostra a grandeza da economia em outra escala\n",
    "# Outro dado relevante para o funcionário a fim de conscientizá-lo\n",
    "# Ser como alerta caso o funcionário consuma energia demais\n",
    "if compare[1] > compare[0]:\n",
    "    exceed = 100*(compare[1] - compare[0])/compare[0]\n",
    "    print(f'Funcionário X ultrapassou em {round(exceed,2)}%')\n",
    "else:\n",
    "    bellow = 100*(compare[0] - compare[1])/compare[0]\n",
    "    print(f'Funcionário X ficou abaixo em {round(bellow,2)}%.')"
   ],
   "metadata": {
    "collapsed": false,
    "pycharm": {
     "name": "#%%\n"
    }
   }
  }
 ],
 "metadata": {
  "kernelspec": {
   "display_name": "Python 3",
   "language": "python",
   "name": "python3"
  },
  "language_info": {
   "codemirror_mode": {
    "name": "ipython",
    "version": 2
   },
   "file_extension": ".py",
   "mimetype": "text/x-python",
   "name": "python",
   "nbconvert_exporter": "python",
   "pygments_lexer": "ipython2",
   "version": "2.7.6"
  }
 },
 "nbformat": 4,
 "nbformat_minor": 0
}